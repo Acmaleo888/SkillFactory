{
 "cells": [
  {
   "cell_type": "code",
   "execution_count": 3,
   "metadata": {},
   "outputs": [
    {
     "name": "stdout",
     "output_type": "stream",
     "text": [
      "Ваш алгоритм угадывает число в среднем за 5 попыток\n"
     ]
    },
    {
     "data": {
      "text/plain": [
       "5"
      ]
     },
     "execution_count": 3,
     "metadata": {},
     "output_type": "execute_result"
    }
   ],
   "source": [
    "import numpy as np\n",
    "\n",
    "number = np.random.randint(1,101)\n",
    "\n",
    "def game_core_ver3(number):\n",
    "    '''Function to guess the number'''\n",
    "    predict_number = 50\n",
    "    ''' Предпологаемое число изначально присваиваем 50, т.к. загаданное число лежит\n",
    "    в середине диапазона от 1 до 100(включительно)'''\n",
    "    count = 1\n",
    "    '''Счетчику итерации присваиваем 1, т.к. сразу сравниваем число 50(выясняем границы\n",
    "    диапазона больше или меньше 50)'''\n",
    "    lower_limit = 1         \n",
    "    '''условная минимальная граница диапазона'''\n",
    "    upper_limit = 101       \n",
    "    '''условная максимальная граница диапазона'''\n",
    "    while predict_number != number:\n",
    "        if predict_number > number: \n",
    "            upper_limit = predict_number     \n",
    "            '''в результате сравнения вычисляем что 50 \n",
    "            больше загаданного числа, присваиваем 50 к макс. границе'''\n",
    "        else:\n",
    "            lower_limit = predict_number    \n",
    "            '''в результате сравнения вычисляем что 50 \n",
    "            меньше загаданного числа, присваиваем 50 к мин. границе'''\n",
    "        count += 1\n",
    "        predict_number = lower_limit + (upper_limit - lower_limit) // 2     \n",
    "        '''В зависимости от присваивания Limit_up и Limit_low, пересчитываем в цикле наивысшую и \n",
    "        наименьшую половину границы загаданного числа, деля на 2 без остатка, полученный результат, \n",
    "        снова пропускаем через цикл, считаем пока опрелится загаданное число '''\n",
    "        \n",
    "    return(count)\n",
    "\n",
    "def score_game(game_core):\n",
    "    '''Запускаем игру 1000 раз, чтобы узнать, как быстро игра угадывает число'''\n",
    "    count_ls = []\n",
    "    np.random.seed(1)  # фиксируем RANDOM SEED, чтобы ваш эксперимент был воспроизводим!\n",
    "    random_array = np.random.randint(1,101, size=(1000))\n",
    "    for number in random_array:\n",
    "        count_ls.append(game_core(number))\n",
    "    score = int(np.mean(count_ls))\n",
    "    print(f\"Ваш алгоритм угадывает число в среднем за {score} попыток\")\n",
    "    return(score)\n",
    "\n",
    "score_game(game_core_ver3)"
   ]
  },
  {
   "cell_type": "code",
   "execution_count": null,
   "metadata": {},
   "outputs": [],
   "source": []
  }
 ],
 "metadata": {
  "kernelspec": {
   "display_name": "Python 3",
   "language": "python",
   "name": "python3"
  },
  "language_info": {
   "codemirror_mode": {
    "name": "ipython",
    "version": 3
   },
   "file_extension": ".py",
   "mimetype": "text/x-python",
   "name": "python",
   "nbconvert_exporter": "python",
   "pygments_lexer": "ipython3",
   "version": "3.8.3"
  }
 },
 "nbformat": 4,
 "nbformat_minor": 4
}
